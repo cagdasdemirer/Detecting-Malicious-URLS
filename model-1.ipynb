{
 "cells": [
  {
   "cell_type": "code",
   "execution_count": null,
   "metadata": {},
   "outputs": [],
   "source": [
    "%%bash\n",
    "pip install -r requirements.txt"
   ]
  },
  {
   "cell_type": "code",
   "execution_count": 12,
   "metadata": {},
   "outputs": [],
   "source": [
    "import warnings\n",
    "warnings.filterwarnings(\"ignore\")\n",
    "import pandas as pd\n",
    "import numpy as np\n",
    "import math\n",
    "import random\n",
    "from collections import Counter\n",
    "from sklearn.preprocessing import MinMaxScaler\n",
    "from sklearn.model_selection import train_test_split\n",
    "from sklearn.linear_model import LogisticRegression\n",
    "from sklearn.feature_extraction.text import TfidfVectorizer\n",
    "from sklearn.metrics import classification_report\n",
    "from sklearn.metrics import confusion_matrix\n",
    "import pickle"
   ]
  },
  {
   "cell_type": "code",
   "execution_count": 1,
   "metadata": {},
   "outputs": [],
   "source": [
    "#Tokenizer\n",
    "def getTokens(input):\n",
    "\ttokensBySlash = str(input.encode('utf-8')).split('/')\t#get tokens after splitting by slash\n",
    "\tallTokens = []\n",
    "\tfor i in tokensBySlash:\n",
    "\t\ttokens = str(i).split('-')\t#get tokens after splitting by dash\n",
    "\t\ttokensByDot = []\n",
    "\t\tfor token in tokens:\n",
    "\t\t\ttempTokens = str(token).split('.')\n",
    "\t\t\ttokensByDot = tokensByDot + tempTokens\n",
    "\t\tallTokens = allTokens + tokens + tokensByDot\n",
    "\tallTokens = list(set(allTokens))\t#remove redundant tokens\n",
    "\tif 'com' in allTokens:\n",
    "\t\tallTokens.remove('com')\t#removing .com since it occurs a lot of times and it should not be included in our features\n",
    "\treturn allTokens"
   ]
  },
  {
   "cell_type": "code",
   "execution_count": 3,
   "metadata": {},
   "outputs": [],
   "source": [
    "#Entropy when talked about in information theory relates to the randomness in data. Another way to think about entropy is that it is the unpredictability of the data.\n",
    "def entropy(s):\n",
    "\tp, lns = Counter(s), float(len(s))\n",
    "\treturn -sum( count/lns * math.log(count/lns, 2) for count in p.values())"
   ]
  },
  {
   "cell_type": "code",
   "execution_count": 4,
   "metadata": {},
   "outputs": [],
   "source": [
    "# Function to label the classes in a DataFrame\n",
    "def class_labels_malware(class_name):\n",
    "    return 0 if (class_name==\"malware\") else 1"
   ]
  },
  {
   "cell_type": "code",
   "execution_count": 7,
   "metadata": {},
   "outputs": [],
   "source": [
    "# Function for Data Scaling\n",
    "def dataset_scaling(dataset):\n",
    "\n",
    "    # Scaling dataset\n",
    "    scaler = MinMaxScaler(feature_range=(0, 1)) # Scaling object for features \n",
    "\n",
    "    df_X = dataset.loc[:, dataset.columns!=\"URL_Type_obf_Type\"]\n",
    "    df_Y = dataset[[\"URL_Type_obf_Type\"]]\n",
    "\n",
    "    df_X = scaler.fit_transform(df_X)\n",
    "    dataset1=np.concatenate((df_X, df_Y), axis=1)\n",
    "\n",
    "    return dataset1, scaler "
   ]
  },
  {
   "cell_type": "code",
   "execution_count": 8,
   "metadata": {},
   "outputs": [],
   "source": [
    "# This dataset created from MISP Threat Text Data\n",
    "allurls = './datasets/data.csv'\t#path to our all urls file\n",
    "allurlscsv = pd.read_csv(allurls,',',error_bad_lines=False)\t#reading file\n",
    "allurlsdata = pd.DataFrame(allurlscsv)\t#converting to a dataframe"
   ]
  },
  {
   "cell_type": "code",
   "execution_count": null,
   "metadata": {},
   "outputs": [],
   "source": [
    "allurlsdata = np.array(allurlsdata)\t#converting it into an array\n",
    "random.shuffle(allurlsdata)\t#shuffling\n",
    "\n",
    "y = [d[1] for d in allurlsdata]\t#all labels \n",
    "corpus = [d[0] for d in allurlsdata]\t#all urls corresponding to a label (either good or bad)\n",
    "\n",
    "#By using a vectorized implementation in an optimization algorithm we can make the process of computation much faster compared to Unvectorized Implementation\n",
    "#Term Frequency Inverse Document Frequency for Text Data Vectorization \n",
    "vectorizer = TfidfVectorizer(tokenizer=getTokens)\t#get a vector for each url but use our customized tokenizer\n",
    "X = vectorizer.fit_transform(corpus)\t#get the X vector\n",
    "\n",
    "X_train, X_test, y_train, y_test = train_test_split(X, y, test_size=0.2, random_state=42)\t#split into training and testing set 80/20 ratio\n",
    "\n",
    "lgs = LogisticRegression()\t#using logistic regression\n",
    "lgs.fit(X_train, y_train)"
   ]
  },
  {
   "cell_type": "code",
   "execution_count": 13,
   "metadata": {},
   "outputs": [
    {
     "name": "stdout",
     "output_type": "stream",
     "text": [
      "              precision    recall  f1-score   support\n",
      "\n",
      "         bad       0.99      0.96      0.98     28340\n",
      "        good       0.98      1.00      0.99     55753\n",
      "\n",
      "    accuracy                           0.98     84093\n",
      "   macro avg       0.99      0.98      0.98     84093\n",
      "weighted avg       0.98      0.98      0.98     84093\n",
      "\n"
     ]
    }
   ],
   "source": [
    "y_pred = lgs.predict(X_test) #Make predictions from test data\n",
    "print(classification_report(y_test, y_pred))"
   ]
  },
  {
   "cell_type": "code",
   "execution_count": 14,
   "metadata": {},
   "outputs": [
    {
     "name": "stdout",
     "output_type": "stream",
     "text": [
      "[[27220  1120]\n",
      " [  217 55536]]\n"
     ]
    }
   ],
   "source": [
    "print(confusion_matrix(y_test, y_pred))"
   ]
  },
  {
   "cell_type": "code",
   "execution_count": 15,
   "metadata": {},
   "outputs": [],
   "source": [
    "pickle.dump(lgs, open('binary_LR.pkl', 'wb'))"
   ]
  }
 ],
 "metadata": {
  "interpreter": {
   "hash": "8b39aa1460c0fd3c9e0a11f87521445909e6caa19bc0819f0be8ccad8cdae2d6"
  },
  "kernelspec": {
   "display_name": "Python 3.8.10 ('venv': venv)",
   "language": "python",
   "name": "python3"
  },
  "language_info": {
   "codemirror_mode": {
    "name": "ipython",
    "version": 3
   },
   "file_extension": ".py",
   "mimetype": "text/x-python",
   "name": "python",
   "nbconvert_exporter": "python",
   "pygments_lexer": "ipython3",
   "version": "3.8.10"
  },
  "orig_nbformat": 4
 },
 "nbformat": 4,
 "nbformat_minor": 2
}
