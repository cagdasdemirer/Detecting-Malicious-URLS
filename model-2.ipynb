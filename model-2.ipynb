{
 "cells": [
  {
   "cell_type": "code",
   "execution_count": null,
   "metadata": {},
   "outputs": [],
   "source": [
    "%%bash\n",
    "pip install -r requirements.txt"
   ]
  },
  {
   "cell_type": "code",
   "execution_count": null,
   "metadata": {},
   "outputs": [],
   "source": [
    "import warnings\n",
    "warnings.filterwarnings(\"ignore\")\n",
    "import pandas as pd\n",
    "import numpy as np\n",
    "import time\n",
    "from sklearn.model_selection import train_test_split\n",
    "from sklearn.preprocessing import MinMaxScaler\n",
    "from sklearn.utils import shuffle\n",
    "from sklearn.neighbors import KNeighborsClassifier\n",
    "from sklearn.metrics import accuracy_score, f1_score\n",
    "from sklearn.decomposition import PCA\n",
    "import pickle"
   ]
  },
  {
   "cell_type": "code",
   "execution_count": null,
   "metadata": {},
   "outputs": [],
   "source": [
    "def class_labels_malware(class_name):\n",
    "    return 0 if (class_name==\"malware\") else 1"
   ]
  },
  {
   "cell_type": "code",
   "execution_count": null,
   "metadata": {},
   "outputs": [],
   "source": [
    "def dataset_scaling(dataset):\n",
    "\n",
    "    # Scaling dataset\n",
    "    scaler = MinMaxScaler(feature_range=(0, 1)) # Scaling object for features \n",
    "\n",
    "    df_X = dataset.loc[:, dataset.columns!=\"URL_Type_obf_Type\"]\n",
    "    df_Y = dataset[[\"URL_Type_obf_Type\"]]\n",
    "\n",
    "    df_X = scaler.fit_transform(df_X)\n",
    "    dataset1=np.concatenate((df_X, df_Y), axis=1)\n",
    "\n",
    "    return dataset1, scaler"
   ]
  },
  {
   "cell_type": "code",
   "execution_count": 49,
   "metadata": {},
   "outputs": [],
   "source": [
    "# Function for appending the column indices with correlation value closer to 0\n",
    "def columns_lowcorr(corr, columns):\n",
    "    index_lowcorr=[]\n",
    "    for i in range(corr.shape[1]):\n",
    "        if((-0.1 < corr.iloc[-1,i] < 0.1) or (pd.isnull(corr.iloc[-1,i]))):\n",
    "            print(columns[-1],\"and\",columns[i],\"with Correlation\",round(corr.iloc[-1][i],2))\n",
    "            index_lowcorr.append(i)\n",
    "    return index_lowcorr\n",
    "# Function for appending the features with high correlation\n",
    "def columns_highcorr(corr, columns):\n",
    "    index_highcorr=[]\n",
    "    for i in range(corr.shape[0]):\n",
    "        for j in range(i, corr.shape[1]):\n",
    "            if(0.8<=corr.iloc[i][j]<1):\n",
    "                print(columns[i],\"and\",columns[j],\"with Correlation\",round(corr.iloc[i][j],2))\n",
    "                if(i not in index_highcorr):\n",
    "                    index_highcorr.append(i);\n",
    "\n",
    "    return index_highcorr\n",
    "\n",
    "    return index_highcorr\n",
    "# Function to determine the final Index column indices with low and high correlation values\n",
    "def final_index(index_lowcorr, index_highcorr):\n",
    "    index=[]\n",
    "    for i in index_lowcorr:\n",
    "        if i not in index:\n",
    "            index.append(i)\n",
    "    for j in index_highcorr:\n",
    "        if j not in index:\n",
    "            index.append(j) \n",
    "    index.sort()\n",
    "    return index"
   ]
  },
  {
   "cell_type": "code",
   "execution_count": 32,
   "metadata": {},
   "outputs": [],
   "source": [
    "# Loading Malware, Spam, Phishing and Defacement Datasets\n",
    "# Each Dataset also consists of Benign URL's\n",
    "malware=pd.read_csv(\"./datasets/multi-class-datasets//Malware.csv\")\n",
    "spam=pd.read_csv(\"./datasets/multi-class-datasets/Spam.csv\")\n",
    "phishing=pd.read_csv(\"./datasets/multi-class-datasets/Phishing.csv\")\n",
    "defacement=pd.read_csv(\"./datasets/multi-class-datasets/Defacement.csv\")"
   ]
  },
  {
   "cell_type": "code",
   "execution_count": 46,
   "metadata": {},
   "outputs": [],
   "source": [
    "# Data Cleaning: Strip whitespaces from the column names and drop NA values and from the explorative analysis it is clear that the Entropy_DirectoryName has no impact on the output colum\n",
    "malware = malware.rename(str.strip, axis='columns')\n",
    "spam=spam.rename(str.strip, axis=\"columns\")\n",
    "phishing=phishing.rename(str.strip, axis=\"columns\")\n",
    "defacement=defacement.rename(str.strip, axis=\"columns\")"
   ]
  },
  {
   "cell_type": "code",
   "execution_count": 44,
   "metadata": {},
   "outputs": [],
   "source": [
    "# In Malware Dataset nearly 40% of values are NULL values in the NumberRate_Extension column\n",
    "malware1=malware.drop([\"NumberRate_Extension\", \"Entropy_DirectoryName\"], axis=1)\n",
    "malware1=malware1.dropna()\n",
    "malware1=shuffle(malware1)\n",
    "malware1=malware1.reset_index(drop=True)"
   ]
  },
  {
   "cell_type": "code",
   "execution_count": 35,
   "metadata": {},
   "outputs": [],
   "source": [
    "# In Spam Dataset nearly 34% of values are NULL values in the NumberRate_Extension column\n",
    "spam1=spam.drop([\"NumberRate_Extension\", \"Entropy_DirectoryName\"], axis=1)\n",
    "spam1=spam1.dropna()\n",
    "spam1=shuffle(spam1)\n",
    "spam1=spam1.reset_index(drop=True)"
   ]
  },
  {
   "cell_type": "code",
   "execution_count": 36,
   "metadata": {},
   "outputs": [],
   "source": [
    "# In Phishing Dataset nearly 48% of values are NULL values in the NumberRate_Extension column\n",
    "phishing1=phishing.drop([\"NumberRate_Extension\", \"Entropy_DirectoryName\"], axis=1)\n",
    "phishing1=phishing1.dropna()\n",
    "phishing1=shuffle(phishing1)\n",
    "phishing1=phishing1.reset_index(drop=True)"
   ]
  },
  {
   "cell_type": "code",
   "execution_count": 37,
   "metadata": {},
   "outputs": [],
   "source": [
    "# In Defacement Dataset nearly 39% of values are NULL values in the Entropy_DirectoryName and 32% of values are NULL values in the NumberRate_Extension column\n",
    "defacement1=defacement.drop([\"NumberRate_Extension\", \"Entropy_DirectoryName\"], axis=1)\n",
    "defacement1=defacement1.dropna()\n",
    "defacement1=shuffle(defacement1) \n",
    "defacement1=defacement1.reset_index(drop=True)"
   ]
  },
  {
   "cell_type": "code",
   "execution_count": 45,
   "metadata": {},
   "outputs": [],
   "source": [
    "# The final Dataset consists of 58972 rows, 77 features and 1 output feature appending all the DataFrames along rows\n",
    "all_files=np.concatenate((malware1, spam1, phishing1, defacement1), axis=0)\n",
    "all_files=pd.DataFrame(all_files, columns=malware1.columns)"
   ]
  },
  {
   "cell_type": "code",
   "execution_count": 47,
   "metadata": {},
   "outputs": [],
   "source": [
    "# From the Explorative Analysis it is clear that there are 45 features with no impact on the output variable\n",
    "names_columns_worst=['Querylength', 'path_token_count', 'avgdomaintokenlen', 'longdomaintokenlen', \n",
    "                     'avgpathtokenlen', 'charcompvowels', 'charcompace', 'ldl_url', 'ldl_path', \n",
    "                     'ldl_filename', 'ldl_getArg', 'dld_url', 'dld_domain', 'dld_path', \n",
    "                     'dld_filename', 'urlLen', 'domainlength', 'pathLength', 'subDirLen', \n",
    "                     'this.fileExtLen', 'ArgLen', 'pathurlRatio', 'ArgUrlRatio', 'argDomanRatio', \n",
    "                     'argPathRatio', 'executable', 'isPortEighty', 'ISIpAddressInDomainName', \n",
    "                     'LongestVariableValue', 'URL_DigitCount', 'host_DigitCount', 'Directory_DigitCount', \n",
    "                     'Extension_DigitCount', 'Query_LetterCount', 'Path_LongestWordLength', 'URL_sensitiveWord', \n",
    "                     'URLQueries_variable', 'spcharUrl', 'delimeter_Count', 'NumberRate_Domain', 'NumberRate_DirectoryName', \n",
    "                     'NumberRate_AfterPath', 'SymbolCount_URL', 'SymbolCount_FileName', 'SymbolCount_Extension'] \n",
    "\n",
    "\n",
    "all_files1=all_files.drop(columns=names_columns_worst) "
   ]
  },
  {
   "cell_type": "markdown",
   "metadata": {},
   "source": [
    "_______________________________________"
   ]
  },
  {
   "cell_type": "code",
   "execution_count": 48,
   "metadata": {},
   "outputs": [],
   "source": [
    "all_files1.to_csv(\"./datasets/multi-class-datasets/All Files.csv\",index=False)\n",
    "all_files1=pd.read_csv(\"./datasets/multi-class-datasets/All Files.csv\")"
   ]
  },
  {
   "cell_type": "code",
   "execution_count": 50,
   "metadata": {},
   "outputs": [
    {
     "name": "stdout",
     "output_type": "stream",
     "text": [
      "domain_token_count and SymbolCount_Domain with Correlation 1.0\n",
      "tld and SymbolCount_Domain with Correlation 1.0\n",
      "pathDomainRatio and URL_Letter_Count with Correlation 0.91\n",
      "pathDomainRatio and Extension_LetterCount with Correlation 0.89\n",
      "pathDomainRatio and LongestPathTokenLength with Correlation 0.92\n",
      "Query_DigitCount and URL_Letter_Count with Correlation 0.86\n",
      "Query_DigitCount and Extension_LetterCount with Correlation 0.87\n",
      "Query_DigitCount and LongestPathTokenLength with Correlation 0.89\n",
      "URL_Letter_Count and Extension_LetterCount with Correlation 0.95\n",
      "URL_Letter_Count and LongestPathTokenLength with Correlation 0.97\n",
      "Extension_LetterCount and LongestPathTokenLength with Correlation 0.97\n"
     ]
    }
   ],
   "source": [
    "# High correlation test\n",
    "corr=all_files1.corr()\n",
    "index_allfiles_highcorr=columns_highcorr(corr, corr.columns)\n",
    "all_files2=all_files1.drop(columns=corr.columns[index_allfiles_highcorr])"
   ]
  },
  {
   "cell_type": "code",
   "execution_count": 51,
   "metadata": {},
   "outputs": [],
   "source": [
    "all_files3=all_files2.copy()\n",
    "all_files3[\"URL_Type_obf_Type\"]=all_files3[\"URL_Type_obf_Type\"].map({\"Defacement\":0, \"benign\":1, \"malware\":2, \"phishing\":3, \"spam\":4 })\n",
    "all_files4, scaler=dataset_scaling(all_files3)\n",
    "all_files4=pd.DataFrame(all_files4, columns=all_files3.columns)"
   ]
  },
  {
   "cell_type": "code",
   "execution_count": 52,
   "metadata": {},
   "outputs": [],
   "source": [
    "X=all_files4.loc[:, all_files4.columns!=\"URL_Type_obf_Type\"]\n",
    "y=all_files4[\"URL_Type_obf_Type\"]"
   ]
  },
  {
   "cell_type": "code",
   "execution_count": 53,
   "metadata": {},
   "outputs": [],
   "source": [
    "# PCA\n",
    "pca = PCA(n_components = 10)\n",
    "pca.fit(X)\n",
    "X_pca = pca.transform(X)"
   ]
  },
  {
   "cell_type": "code",
   "execution_count": 54,
   "metadata": {},
   "outputs": [],
   "source": [
    "train_x, test_x, train_y, test_y=train_test_split(X_pca, y, random_state=0, test_size=0.25)\n",
    "knn=KNeighborsClassifier(n_neighbors=5)\n",
    "knn.fit(train_x, train_y)\n",
    "predicted_test=knn.predict(test_x)\n",
    "predicted_train=knn.predict(train_x)"
   ]
  },
  {
   "cell_type": "code",
   "execution_count": 55,
   "metadata": {},
   "outputs": [
    {
     "data": {
      "text/plain": [
       "95.70643695313031"
      ]
     },
     "execution_count": 55,
     "metadata": {},
     "output_type": "execute_result"
    }
   ],
   "source": [
    "accuracy_score(test_y, predicted_test) * 100"
   ]
  },
  {
   "cell_type": "code",
   "execution_count": 56,
   "metadata": {},
   "outputs": [
    {
     "data": {
      "text/plain": [
       "97.14214655542743"
      ]
     },
     "execution_count": 56,
     "metadata": {},
     "output_type": "execute_result"
    }
   ],
   "source": [
    "accuracy_score(train_y, predicted_train) * 100"
   ]
  },
  {
   "cell_type": "code",
   "execution_count": 57,
   "metadata": {},
   "outputs": [],
   "source": [
    "pickle.dump(knn, open('multi_knn_pca.pkl', 'wb'))"
   ]
  }
 ],
 "metadata": {
  "interpreter": {
   "hash": "8b39aa1460c0fd3c9e0a11f87521445909e6caa19bc0819f0be8ccad8cdae2d6"
  },
  "kernelspec": {
   "display_name": "Python 3.8.10 ('venv': venv)",
   "language": "python",
   "name": "python3"
  },
  "language_info": {
   "codemirror_mode": {
    "name": "ipython",
    "version": 3
   },
   "file_extension": ".py",
   "mimetype": "text/x-python",
   "name": "python",
   "nbconvert_exporter": "python",
   "pygments_lexer": "ipython3",
   "version": "3.8.10"
  },
  "orig_nbformat": 4
 },
 "nbformat": 4,
 "nbformat_minor": 2
}
